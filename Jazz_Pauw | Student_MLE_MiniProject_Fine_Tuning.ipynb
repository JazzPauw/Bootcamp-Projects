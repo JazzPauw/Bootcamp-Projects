{
  "nbformat": 4,
  "nbformat_minor": 0,
  "metadata": {
    "colab": {
      "provenance": [],
      "include_colab_link": true
    },
    "kernelspec": {
      "name": "python3",
      "display_name": "Python 3"
    },
    "language_info": {
      "name": "python"
    }
  },
  "cells": [
    {
      "cell_type": "markdown",
      "metadata": {
        "id": "view-in-github",
        "colab_type": "text"
      },
      "source": [
        "<a href=\"https://colab.research.google.com/github/JazzPauw/Bootcamp-Projects/blob/main/Jazz_Pauw%20%7C%20Student_MLE_MiniProject_Fine_Tuning.ipynb\" target=\"_parent\"><img src=\"https://colab.research.google.com/assets/colab-badge.svg\" alt=\"Open In Colab\"/></a>"
      ]
    },
    {
      "cell_type": "markdown",
      "source": [
        "# Mini Project: Transfer Learning with Keras\n",
        "\n",
        "Transfer learning is a machine learning technique where a model trained on one task is used as a starting point to solve a different but related task. Instead of training a model from scratch, transfer learning leverages the knowledge learned from the source task and applies it to the target task. This approach is especially useful when the target task has limited data or computational resources.\n",
        "\n",
        "In transfer learning, the pre-trained model, also known as the \"base model\" or \"source model,\" is typically trained on a large dataset and a more general problem (e.g., image classification on ImageNet, a vast dataset with millions of labeled images). The knowledge learned by the base model in the form of feature representations and weights captures common patterns and features in the data.\n",
        "\n",
        "To perform transfer learning, the following steps are commonly followed:\n",
        "\n",
        "1. Pre-training: The base model is trained on a source task using a large dataset, which can take a considerable amount of time and computational resources.\n",
        "\n",
        "2. Feature Extraction: After pre-training, the base model is used as a feature extractor. The last few layers (classifier layers) of the model are discarded, and the remaining layers (feature extraction layers) are retained. These layers serve as feature extractors, producing meaningful representations of the data.\n",
        "\n",
        "3. Fine-tuning: The feature extraction layers and sometimes some of the earlier layers are connected to a new set of layers, often called the \"classifier layers\" or \"task-specific layers.\" These layers are randomly initialized, and the model is trained on the target task with a smaller dataset. The weights of the base model can be frozen during fine-tuning, or they can be allowed to be updated with a lower learning rate to fine-tune the model for the target task.\n",
        "\n",
        "Transfer learning has several benefits:\n",
        "\n",
        "1. Reduced training time and resource requirements: Since the base model has already learned generic features, transfer learning can save time and resources compared to training a model from scratch.\n",
        "\n",
        "2. Improved generalization: Transfer learning helps the model generalize better to the target task, especially when the target dataset is small and dissimilar from the source dataset.\n",
        "\n",
        "3. Better performance: By starting from a model that is already trained on a large dataset, transfer learning can lead to better performance on the target task, especially in scenarios with limited data.\n",
        "\n",
        "4. Effective feature extraction: The feature extraction layers of the pre-trained model can serve as powerful feature extractors for different tasks, even when the task domains differ.\n",
        "\n",
        "Transfer learning is commonly used in various domains, including computer vision, natural language processing (NLP), and speech recognition, where pre-trained models are fine-tuned for specific applications like object detection, sentiment analysis, or speech-to-text.\n",
        "\n",
        "In this mini-project you will perform fine-tuning using Keras with a pre-trained VGG16 model on the CIFAR-10 dataset."
      ],
      "metadata": {
        "id": "fyXucUekO19i"
      }
    },
    {
      "cell_type": "markdown",
      "source": [
        "First, import all the libraries you'll need."
      ],
      "metadata": {
        "id": "TYuE9O6I2uRY"
      }
    },
    {
      "cell_type": "code",
      "execution_count": 1,
      "metadata": {
        "id": "kLWR1DfQPakn"
      },
      "outputs": [],
      "source": [
        "import numpy as np\n",
        "import tensorflow as tf\n",
        "from tensorflow.keras.datasets import cifar10\n",
        "from tensorflow.keras.applications import VGG16\n",
        "from tensorflow.keras.models import Model\n",
        "from tensorflow.keras.layers import Dense, GlobalAveragePooling2D\n",
        "from tensorflow.keras.optimizers import Adam\n",
        "from tensorflow.keras.utils import to_categorical\n",
        "from sklearn.model_selection import train_test_split"
      ]
    },
    {
      "cell_type": "markdown",
      "source": [
        "The CIFAR-10 dataset is a widely used benchmark dataset in the field of computer vision and machine learning. It stands for the \"Canadian Institute for Advanced Research 10\" dataset. CIFAR-10 was created by researchers at the CIFAR institute and was originally introduced as part of the Neural Information Processing Systems (NIPS) 2009 competition.\n",
        "\n",
        "The dataset consists of 60,000 color images, each of size 32x32 pixels, belonging to ten different classes. Each class contains 6,000 images. The ten classes in CIFAR-10 are:\n",
        "\n",
        "1. Airplane\n",
        "2. Automobile\n",
        "3. Bird\n",
        "4. Cat\n",
        "5. Deer\n",
        "6. Dog\n",
        "7. Frog\n",
        "8. Horse\n",
        "9. Ship\n",
        "10. Truck\n",
        "\n",
        "The images are evenly distributed across the classes, making CIFAR-10 a balanced dataset. The dataset is divided into two sets: a training set and a test set. The training set contains 50,000 images, while the test set contains the remaining 10,000 images.\n",
        "\n",
        "CIFAR-10 is often used for tasks such as image classification, object recognition, and transfer learning experiments. The relatively small size of the images and the variety of classes make it a challenging dataset for training machine learning models, especially deep neural networks. It also serves as a good dataset for teaching and learning purposes due to its manageable size and straightforward class labels."
      ],
      "metadata": {
        "id": "TEB60YsX2yUf"
      }
    },
    {
      "cell_type": "markdown",
      "source": [
        "Here are your tasks:\n",
        "\n",
        "1. Load the CIFAR-10 dataset after referencing the documentation [here](https://keras.io/api/datasets/cifar10/).\n",
        "2. Normalize the pixel values so they're all in the range [0, 1].\n",
        "3. Apply One Hot Encoding to the train and test labels using the [to_categorical](https://www.tensorflow.org/api_docs/python/tf/keras/utils/to_categorical) function.\n",
        "4. Further split the the training data into training and validation sets using [train_test_split](https://scikit-learn.org/stable/modules/generated/sklearn.model_selection.train_test_split.html). Use only 10% of the data for validation.  "
      ],
      "metadata": {
        "id": "Gp0MVIbiFonL"
      }
    },
    {
      "cell_type": "code",
      "source": [
        "# Load the CIFAR-10 dataset\n",
        "(X_train, y_train), (X_test, y_test) = cifar10.load_data()"
      ],
      "metadata": {
        "id": "ndNbwjaaSvs-",
        "colab": {
          "base_uri": "https://localhost:8080/"
        },
        "outputId": "d53cd99b-7f87-4c5b-ce31-6883ec91b941"
      },
      "execution_count": 2,
      "outputs": [
        {
          "output_type": "stream",
          "name": "stdout",
          "text": [
            "Downloading data from https://www.cs.toronto.edu/~kriz/cifar-10-python.tar.gz\n",
            "170498071/170498071 [==============================] - 5s 0us/step\n"
          ]
        }
      ]
    },
    {
      "cell_type": "code",
      "source": [
        "# Normalize the pixel values to [0, 1]\n",
        "X_train_normalized = X_train.astype('float32') / 255.0\n",
        "X_test_normalized = X_test.astype('float32') / 255.0"
      ],
      "metadata": {
        "id": "8H6KUgh2SxxR"
      },
      "execution_count": 3,
      "outputs": []
    },
    {
      "cell_type": "code",
      "source": [
        "# One-hot encode the labels\n",
        "y_train_OHE = to_categorical(y_train)\n",
        "y_test_OHE = to_categorical(y_test)"
      ],
      "metadata": {
        "id": "mWDW1ZLySz7K"
      },
      "execution_count": 4,
      "outputs": []
    },
    {
      "cell_type": "code",
      "source": [
        "# Split the data into training and validation sets\n",
        "X_training, X_val, y_training, y_val  = train_test_split(X_train_normalized, y_train_OHE, test_size=0.10)"
      ],
      "metadata": {
        "id": "4y3zao91ndZB"
      },
      "execution_count": 5,
      "outputs": []
    },
    {
      "cell_type": "markdown",
      "source": [
        "VGG16 (Visual Geometry Group 16) is a deep convolutional neural network architecture that was developed by the Visual Geometry Group at the University of Oxford. It was proposed by researchers Karen Simonyan and Andrew Zisserman in their paper titled \"Very Deep Convolutional Networks for Large-Scale Image Recognition,\" which was presented at the International Conference on Learning Representations (ICLR) in 2015.\n",
        "\n",
        "The VGG16 architecture gained significant popularity for its simplicity and effectiveness in image classification tasks. It was one of the pioneering models that demonstrated the power of deeper neural networks for visual recognition tasks.\n",
        "\n",
        "Key characteristics of the VGG16 architecture:\n",
        "\n",
        "1. Architecture: VGG16 consists of a total of 16 layers, hence the name \"16.\" These layers are stacked one after another, forming a deep neural network.\n",
        "\n",
        "2. Convolutional Layers: The main building blocks of VGG16 are the convolutional layers. It primarily uses 3x3 convolutional filters throughout the network, which allows it to capture local features effectively.\n",
        "\n",
        "3. Max Pooling: After each set of convolutional layers, VGG16 applies max-pooling layers with 2x2 filters and stride 2, which halves the spatial dimensions (width and height) of the feature maps and reduces the number of parameters.\n",
        "\n",
        "4. Fully Connected Layers: Towards the end of the network, VGG16 has fully connected layers that act as a classifier to make predictions based on the learned features.\n",
        "\n",
        "5. Activation Function: The network uses the Rectified Linear Unit (ReLU) activation function for all hidden layers, which helps with faster convergence during training.\n",
        "\n",
        "6. Number of Filters: The number of filters in each convolutional layer is relatively small compared to more recent architectures like ResNet or InceptionNet. However, stacking multiple layers allows VGG16 to learn complex hierarchical features.\n",
        "\n",
        "7. Output Layer: The output layer consists of 1000 units, corresponding to 1000 ImageNet classes. VGG16 was originally trained on the large-scale ImageNet dataset, which contains millions of images from 1000 different classes.\n",
        "\n",
        "VGG16 was instrumental in showing that increasing the depth of a neural network can significantly improve its performance on image recognition tasks. However, the main drawback of VGG16 is its high number of parameters, making it computationally expensive and memory-intensive to train. Despite this limitation, VGG16 remains an essential benchmark architecture and has paved the way for even deeper and more efficient models in the field of computer vision, such as ResNet, DenseNet, and EfficientNet."
      ],
      "metadata": {
        "id": "aiFJsxS5HPHW"
      }
    },
    {
      "cell_type": "markdown",
      "source": [
        "Here are your tasks:\n",
        "\n",
        "1. Load [VGG16](https://keras.io/api/applications/vgg/#vgg16-function) as a base model. Make sure to exclude the top layer.\n",
        "2. Freeze all the layers in the base model. We'll be using these weights as a feature extraction layer to forward to layers that are trainable."
      ],
      "metadata": {
        "id": "XJw9E1D9Q3tQ"
      }
    },
    {
      "cell_type": "code",
      "source": [
        "# Load the pre-trained VGG16 model (excluding the top classifier)\n",
        "VGG16 = VGG16(include_top=False)"
      ],
      "metadata": {
        "id": "bncm8oTonijm",
        "colab": {
          "base_uri": "https://localhost:8080/"
        },
        "outputId": "ba9aa9f6-726a-48b9-c01b-42ea054f9e0c"
      },
      "execution_count": 6,
      "outputs": [
        {
          "output_type": "stream",
          "name": "stdout",
          "text": [
            "Downloading data from https://storage.googleapis.com/tensorflow/keras-applications/vgg16/vgg16_weights_tf_dim_ordering_tf_kernels_notop.h5\n",
            "58889256/58889256 [==============================] - 0s 0us/step\n"
          ]
        }
      ]
    },
    {
      "cell_type": "code",
      "source": [
        "# Freeze the layers in the base model\n",
        "for layer in VGG16.layers:\n",
        "  layer.trainable = False"
      ],
      "metadata": {
        "id": "pCQXH4bwS6h5"
      },
      "execution_count": 7,
      "outputs": []
    },
    {
      "cell_type": "markdown",
      "source": [
        "Now, we'll add some trainable layers to the base model.\n",
        "\n",
        "1. Using the base model, add a [GlobalAveragePooling2D](https://keras.io/api/layers/pooling_layers/global_average_pooling2d/) layer, followed by a [Dense](https://keras.io/api/layers/core_layers/dense/) layer of length 256 with ReLU activation. Finally, add a classification layer with 10 units, corresponding to the 10 CIFAR-10 classes, with softmax activation.\n",
        "2. Create a Keras [Model](https://keras.io/api/models/model/) that takes in approproate inputs and outputs."
      ],
      "metadata": {
        "id": "MAnyLR6btWqd"
      }
    },
    {
      "cell_type": "code",
      "source": [
        "# Add a global average pooling layer\n",
        "top_layer = VGG16.output\n",
        "top_layer = GlobalAveragePooling2D()(top_layer)"
      ],
      "metadata": {
        "id": "GiD0CiSvTCRG"
      },
      "execution_count": 8,
      "outputs": []
    },
    {
      "cell_type": "code",
      "source": [
        "# Add a fully connected layer with 256 units and ReLU activation\n",
        "top_layer = Dense(256, activation='ReLU')(top_layer)"
      ],
      "metadata": {
        "id": "fKbX1RK4TCB9"
      },
      "execution_count": 9,
      "outputs": []
    },
    {
      "cell_type": "code",
      "source": [
        "# Add the final classification layer with 10 units (for CIFAR-10 classes) and softmax activation\n",
        "top_layer = Dense(10, activation='softmax')(top_layer)"
      ],
      "metadata": {
        "id": "yEYDagVQTB33"
      },
      "execution_count": 10,
      "outputs": []
    },
    {
      "cell_type": "code",
      "source": [
        "# Create the fine-tuned model\n",
        "model = Model(inputs=VGG16.input, outputs=top_layer)"
      ],
      "metadata": {
        "id": "A-op7iObo8io"
      },
      "execution_count": 11,
      "outputs": []
    },
    {
      "cell_type": "markdown",
      "source": [
        "With your model complete it's time to train it and assess its performance.\n",
        "\n",
        "1. Compile your model using an appropriate loss function. Feel free to play around with the optimizer, but a good starting optimizer might be Adam with a learning rate of 0.001.\n",
        "2. Fit your model on the training data. Use the validation data to print the accuracy for each epoch. Try training for 10 epochs. Note, training can take a few hours so go ahead and grab a cup of coffee.\n",
        "\n",
        "**Optional**: See if you can implement an [Early Stopping](https://keras.io/api/callbacks/early_stopping/) criteria as a callback function."
      ],
      "metadata": {
        "id": "jjgG_9IMwuLS"
      }
    },
    {
      "cell_type": "code",
      "source": [
        "!pip install scikeras\n"
      ],
      "metadata": {
        "colab": {
          "base_uri": "https://localhost:8080/"
        },
        "id": "MQAk2y3TvGY3",
        "outputId": "43d72876-7890-4743-bc42-1c1882222602"
      },
      "execution_count": 14,
      "outputs": [
        {
          "output_type": "stream",
          "name": "stdout",
          "text": [
            "Collecting scikeras\n",
            "  Downloading scikeras-0.12.0-py3-none-any.whl (27 kB)\n",
            "Requirement already satisfied: packaging>=0.21 in /usr/local/lib/python3.10/dist-packages (from scikeras) (23.2)\n",
            "Requirement already satisfied: scikit-learn>=1.0.0 in /usr/local/lib/python3.10/dist-packages (from scikeras) (1.2.2)\n",
            "Requirement already satisfied: numpy>=1.17.3 in /usr/local/lib/python3.10/dist-packages (from scikit-learn>=1.0.0->scikeras) (1.23.5)\n",
            "Requirement already satisfied: scipy>=1.3.2 in /usr/local/lib/python3.10/dist-packages (from scikit-learn>=1.0.0->scikeras) (1.11.4)\n",
            "Requirement already satisfied: joblib>=1.1.1 in /usr/local/lib/python3.10/dist-packages (from scikit-learn>=1.0.0->scikeras) (1.3.2)\n",
            "Requirement already satisfied: threadpoolctl>=2.0.0 in /usr/local/lib/python3.10/dist-packages (from scikit-learn>=1.0.0->scikeras) (3.2.0)\n",
            "Installing collected packages: scikeras\n",
            "Successfully installed scikeras-0.12.0\n"
          ]
        }
      ]
    },
    {
      "cell_type": "code",
      "source": [
        "# Compile the model\n",
        "from tensorflow.keras.callbacks import EarlyStopping\n",
        "\n",
        "callback = EarlyStopping(\n",
        "    monitor='loss',\n",
        "    patience = 2)\n",
        "\n",
        "model.compile(\n",
        "    optimizer=Adam(learning_rate=0.001),\n",
        "    loss='categorical_crossentropy',\n",
        "    metrics=['accuracy']\n",
        ")\n"
      ],
      "metadata": {
        "id": "xTFBXCe6TG5m"
      },
      "execution_count": 23,
      "outputs": []
    },
    {
      "cell_type": "code",
      "source": [
        "# Train the model\n",
        "history = model.fit(X_training, y_training, epochs=10,\n",
        "          validation_data=(X_val, y_val), callbacks=[callback])"
      ],
      "metadata": {
        "id": "M5JnXlGPpkDg",
        "colab": {
          "base_uri": "https://localhost:8080/"
        },
        "outputId": "97f1ec1f-55fa-437c-c2d9-687be7d35f04"
      },
      "execution_count": null,
      "outputs": [
        {
          "output_type": "stream",
          "name": "stdout",
          "text": [
            "Epoch 1/10\n",
            "1407/1407 [==============================] - 659s 467ms/step - loss: 1.3513 - accuracy: 0.5301 - val_loss: 1.2364 - val_accuracy: 0.5692\n",
            "Epoch 2/10\n",
            "1407/1407 [==============================] - 648s 461ms/step - loss: 1.1746 - accuracy: 0.5870 - val_loss: 1.2025 - val_accuracy: 0.5722\n",
            "Epoch 3/10\n",
            "1407/1407 [==============================] - 630s 448ms/step - loss: 1.1063 - accuracy: 0.6134 - val_loss: 1.1451 - val_accuracy: 0.6058\n",
            "Epoch 4/10\n",
            "1407/1407 [==============================] - 629s 447ms/step - loss: 1.0583 - accuracy: 0.6298 - val_loss: 1.1427 - val_accuracy: 0.5992\n",
            "Epoch 5/10\n",
            "1407/1407 [==============================] - 646s 459ms/step - loss: 1.0193 - accuracy: 0.6429 - val_loss: 1.1219 - val_accuracy: 0.6130\n",
            "Epoch 6/10\n",
            "1407/1407 [==============================] - 642s 457ms/step - loss: 0.9808 - accuracy: 0.6565 - val_loss: 1.1206 - val_accuracy: 0.6116\n",
            "Epoch 7/10\n",
            "1407/1407 [==============================] - 648s 460ms/step - loss: 0.9448 - accuracy: 0.6668 - val_loss: 1.1072 - val_accuracy: 0.6252\n",
            "Epoch 8/10\n",
            "1407/1407 [==============================] - 652s 463ms/step - loss: 0.9127 - accuracy: 0.6799 - val_loss: 1.1325 - val_accuracy: 0.6126\n",
            "Epoch 9/10\n",
            "1407/1407 [==============================] - 658s 468ms/step - loss: 0.8812 - accuracy: 0.6917 - val_loss: 1.1201 - val_accuracy: 0.6184\n",
            "Epoch 10/10\n",
            "1407/1407 [==============================] - 626s 445ms/step - loss: 0.8515 - accuracy: 0.7005 - val_loss: 1.1151 - val_accuracy: 0.6196\n"
          ]
        }
      ]
    },
    {
      "cell_type": "markdown",
      "source": [
        "With your model trained, it's time to assess how well it performs on the test data.\n",
        "\n",
        "1. Use your trained model to calculate the accuracy on the test set. Is the model performance better than random?\n",
        "2. Experiment! See if you can tweak your model to improve performance.  "
      ],
      "metadata": {
        "id": "N8-T6EnmypvW"
      }
    },
    {
      "cell_type": "code",
      "source": [
        "# Evaluate the model on the test set\n",
        "test_loss, test_accuracy = model.evaluate(X_test, y_test_OHE)\n",
        "print(len(history.history['loss']))\n",
        "print(\"Test Loss:\", test_loss)\n",
        "print(\"Test Accuracy:\", test_accuracy)"
      ],
      "metadata": {
        "id": "auYNYD0JpnaX",
        "colab": {
          "base_uri": "https://localhost:8080/"
        },
        "outputId": "4f6ef295-3dc2-4a3c-bb41-2e02d285191a"
      },
      "execution_count": null,
      "outputs": [
        {
          "output_type": "stream",
          "name": "stdout",
          "text": [
            "313/313 [==============================] - 136s 435ms/step - loss: 166.9498 - accuracy: 0.3184\n",
            "10\n",
            "Test Loss: 166.94979858398438\n",
            "Test Accuracy: 0.31839999556541443\n"
          ]
        }
      ]
    },
    {
      "cell_type": "code",
      "source": [
        "# Different fine-tuning\n",
        "model.compile(\n",
        "    optimizer=Adam(learning_rate=0.0001),\n",
        "    loss='categorical_crossentropy',\n",
        "    metrics=['accuracy']\n",
        ")\n"
      ],
      "metadata": {
        "id": "cYWTyqQCILh-"
      },
      "execution_count": null,
      "outputs": []
    },
    {
      "cell_type": "code",
      "source": [
        "history2 = model.fit(X_training, y_training, epochs=15,\n",
        "          validation_data=(X_val, y_val), callbacks=[callback])"
      ],
      "metadata": {
        "colab": {
          "base_uri": "https://localhost:8080/"
        },
        "id": "kvQu9CtJiNNF",
        "outputId": "240b0faf-f5e2-4c5a-c620-fb46de734cd9"
      },
      "execution_count": null,
      "outputs": [
        {
          "output_type": "stream",
          "name": "stdout",
          "text": [
            "Epoch 1/15\n",
            "1407/1407 [==============================] - 624s 443ms/step - loss: 0.7425 - accuracy: 0.7432 - val_loss: 1.0840 - val_accuracy: 0.6362\n",
            "Epoch 2/15\n",
            "1407/1407 [==============================] - 652s 464ms/step - loss: 0.7288 - accuracy: 0.7488 - val_loss: 1.0831 - val_accuracy: 0.6382\n",
            "Epoch 3/15\n",
            "1407/1407 [==============================] - 626s 445ms/step - loss: 0.7212 - accuracy: 0.7528 - val_loss: 1.0881 - val_accuracy: 0.6316\n",
            "Epoch 4/15\n",
            "1407/1407 [==============================] - 624s 444ms/step - loss: 0.7151 - accuracy: 0.7553 - val_loss: 1.0849 - val_accuracy: 0.6378\n",
            "Epoch 5/15\n",
            "1407/1407 [==============================] - 626s 445ms/step - loss: 0.7092 - accuracy: 0.7570 - val_loss: 1.0909 - val_accuracy: 0.6368\n",
            "Epoch 6/15\n",
            "1407/1407 [==============================] - 626s 445ms/step - loss: 0.7034 - accuracy: 0.7588 - val_loss: 1.0894 - val_accuracy: 0.6344\n",
            "Epoch 7/15\n",
            "1407/1407 [==============================] - 626s 445ms/step - loss: 0.6984 - accuracy: 0.7620 - val_loss: 1.0942 - val_accuracy: 0.6346\n",
            "Epoch 8/15\n",
            "1407/1407 [==============================] - 628s 446ms/step - loss: 0.6929 - accuracy: 0.7631 - val_loss: 1.0921 - val_accuracy: 0.6350\n",
            "Epoch 9/15\n",
            "1407/1407 [==============================] - 631s 449ms/step - loss: 0.6879 - accuracy: 0.7655 - val_loss: 1.0931 - val_accuracy: 0.6330\n",
            "Epoch 10/15\n",
            "1407/1407 [==============================] - 626s 445ms/step - loss: 0.6827 - accuracy: 0.7672 - val_loss: 1.0962 - val_accuracy: 0.6338\n",
            "Epoch 11/15\n",
            "1407/1407 [==============================] - 631s 448ms/step - loss: 0.6779 - accuracy: 0.7693 - val_loss: 1.1043 - val_accuracy: 0.6318\n",
            "Epoch 12/15\n",
            "1407/1407 [==============================] - 630s 448ms/step - loss: 0.6733 - accuracy: 0.7713 - val_loss: 1.0985 - val_accuracy: 0.6358\n",
            "Epoch 13/15\n",
            "1407/1407 [==============================] - 602s 428ms/step - loss: 0.6684 - accuracy: 0.7723 - val_loss: 1.1041 - val_accuracy: 0.6350\n",
            "Epoch 14/15\n",
            "1407/1407 [==============================] - 605s 430ms/step - loss: 0.6636 - accuracy: 0.7751 - val_loss: 1.1043 - val_accuracy: 0.6334\n",
            "Epoch 15/15\n",
            "1407/1407 [==============================] - 624s 444ms/step - loss: 0.6592 - accuracy: 0.7772 - val_loss: 1.1074 - val_accuracy: 0.6344\n"
          ]
        }
      ]
    },
    {
      "cell_type": "code",
      "source": [
        "# Evaluate the model on the test set\n",
        "test_loss, test_accuracy = model.evaluate(X_test, y_test_OHE)\n",
        "print(len(history2.history['loss']))\n",
        "print(\"Test Loss:\", test_loss)\n",
        "print(\"Test Accuracy:\", test_accuracy)"
      ],
      "metadata": {
        "colab": {
          "base_uri": "https://localhost:8080/"
        },
        "id": "I2HOOqcEKCxx",
        "outputId": "45b7a971-74a8-4cd8-b174-44ca64937106"
      },
      "execution_count": null,
      "outputs": [
        {
          "output_type": "stream",
          "name": "stdout",
          "text": [
            "313/313 [==============================] - 125s 398ms/step - loss: 193.5732 - accuracy: 0.3130\n",
            "15\n",
            "Test Loss: 193.57321166992188\n",
            "Test Accuracy: 0.31299999356269836\n"
          ]
        }
      ]
    },
    {
      "cell_type": "code",
      "source": [
        "# Different fine-tuning\n",
        "from tensorflow.keras.optimizers import SGD\n",
        "model.compile(\n",
        "    optimizer=SGD(learning_rate=0.0001, momentum=0.9),\n",
        "    loss='categorical_crossentropy',\n",
        "    metrics=['accuracy']\n",
        ")"
      ],
      "metadata": {
        "id": "v2QZ42JQDAXw"
      },
      "execution_count": null,
      "outputs": []
    },
    {
      "cell_type": "code",
      "source": [
        "history3 = model.fit(X_training, y_training, epochs=15,\n",
        "          validation_data=(X_val, y_val), callbacks=[callback])"
      ],
      "metadata": {
        "colab": {
          "base_uri": "https://localhost:8080/"
        },
        "id": "bHWoqTELDDoa",
        "outputId": "a18d9d78-9f21-4a50-aabf-617293806645"
      },
      "execution_count": null,
      "outputs": [
        {
          "output_type": "stream",
          "name": "stdout",
          "text": [
            "Epoch 1/15\n",
            "1407/1407 [==============================] - 385s 273ms/step - loss: 2.1532 - accuracy: 0.2404 - val_loss: 2.0068 - val_accuracy: 0.3400\n",
            "Epoch 2/15\n",
            "1407/1407 [==============================] - 382s 272ms/step - loss: 1.9186 - accuracy: 0.3764 - val_loss: 1.8418 - val_accuracy: 0.3988\n",
            "Epoch 3/15\n",
            "1407/1407 [==============================] - 386s 274ms/step - loss: 1.7882 - accuracy: 0.4142 - val_loss: 1.7385 - val_accuracy: 0.4328\n",
            "Epoch 4/15\n",
            "1407/1407 [==============================] - 382s 272ms/step - loss: 1.7024 - accuracy: 0.4374 - val_loss: 1.6667 - val_accuracy: 0.4470\n",
            "Epoch 5/15\n",
            "1407/1407 [==============================] - 385s 274ms/step - loss: 1.6416 - accuracy: 0.4522 - val_loss: 1.6152 - val_accuracy: 0.4608\n",
            "Epoch 6/15\n",
            "1407/1407 [==============================] - 382s 271ms/step - loss: 1.5956 - accuracy: 0.4630 - val_loss: 1.5740 - val_accuracy: 0.4758\n",
            "Epoch 7/15\n",
            "1407/1407 [==============================] - 382s 272ms/step - loss: 1.5592 - accuracy: 0.4718 - val_loss: 1.5418 - val_accuracy: 0.4832\n",
            "Epoch 8/15\n",
            "1407/1407 [==============================] - 384s 273ms/step - loss: 1.5296 - accuracy: 0.4810 - val_loss: 1.5176 - val_accuracy: 0.4906\n",
            "Epoch 9/15\n",
            "1407/1407 [==============================] - 387s 275ms/step - loss: 1.5054 - accuracy: 0.4870 - val_loss: 1.4941 - val_accuracy: 0.4962\n",
            "Epoch 10/15\n",
            "1407/1407 [==============================] - 385s 274ms/step - loss: 1.4843 - accuracy: 0.4919 - val_loss: 1.4743 - val_accuracy: 0.5022\n",
            "Epoch 11/15\n",
            "1407/1407 [==============================] - 385s 274ms/step - loss: 1.4660 - accuracy: 0.4984 - val_loss: 1.4596 - val_accuracy: 0.5082\n",
            "Epoch 12/15\n",
            "1407/1407 [==============================] - 382s 272ms/step - loss: 1.4500 - accuracy: 0.5034 - val_loss: 1.4441 - val_accuracy: 0.5142\n",
            "Epoch 13/15\n",
            "1407/1407 [==============================] - 385s 274ms/step - loss: 1.4355 - accuracy: 0.5070 - val_loss: 1.4316 - val_accuracy: 0.5158\n",
            "Epoch 14/15\n",
            "1407/1407 [==============================] - 382s 271ms/step - loss: 1.4228 - accuracy: 0.5111 - val_loss: 1.4211 - val_accuracy: 0.5214\n",
            "Epoch 15/15\n",
            "1407/1407 [==============================] - 386s 274ms/step - loss: 1.4111 - accuracy: 0.5149 - val_loss: 1.4097 - val_accuracy: 0.5216\n"
          ]
        }
      ]
    },
    {
      "cell_type": "code",
      "source": [
        "# Evaluate the model on the test set\n",
        "test_loss, test_accuracy = model.evaluate(X_test, y_test_OHE)\n",
        "print(len(history3.history['loss']))\n",
        "print(\"Test Loss:\", test_loss)\n",
        "print(\"Test Accuracy:\", test_accuracy)"
      ],
      "metadata": {
        "colab": {
          "base_uri": "https://localhost:8080/"
        },
        "id": "gkGjxQTzSyo8",
        "outputId": "5a52e56e-a3d7-4a29-fec0-60a2b1398bf6"
      },
      "execution_count": null,
      "outputs": [
        {
          "output_type": "stream",
          "name": "stdout",
          "text": [
            "313/313 [==============================] - 79s 252ms/step - loss: 35.7812 - accuracy: 0.2746\n",
            "15\n",
            "Test Loss: 35.781166076660156\n",
            "Test Accuracy: 0.27459999918937683\n"
          ]
        }
      ]
    }
  ]
}