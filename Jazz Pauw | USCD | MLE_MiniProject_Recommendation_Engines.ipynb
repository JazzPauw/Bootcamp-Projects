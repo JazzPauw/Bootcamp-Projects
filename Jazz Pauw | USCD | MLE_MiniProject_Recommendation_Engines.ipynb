{
  "cells": [
    {
      "cell_type": "markdown",
      "metadata": {
        "id": "view-in-github",
        "colab_type": "text"
      },
      "source": [
        "<a href=\"https://colab.research.google.com/github/JazzPauw/Bootcamp-Projects/blob/main/Jazz%20Pauw%20%7C%20USCD%20%7C%20MLE_MiniProject_Recommendation_Engines.ipynb\" target=\"_parent\"><img src=\"https://colab.research.google.com/assets/colab-badge.svg\" alt=\"Open In Colab\"/></a>"
      ]
    },
    {
      "cell_type": "markdown",
      "metadata": {
        "id": "fyXucUekO19i"
      },
      "source": [
        "# Mini Project: Recommendation Engines\n",
        "\n",
        "Recommendation engines are algorithms designed to provide personalized suggestions or recommendations to users. These systems analyze user behavior, preferences, and interactions with items (products, movies, music, articles, etc.) to predict and offer items that users are likely to be interested in. Recommendation engines play a crucial role in enhancing user experience, driving engagement, and increasing conversion rates in various applications, including e-commerce, entertainment, content platforms, and more.\n",
        "\n",
        "There are generally two approaches taken in collaborative filtering and content-based recommendation engines:\n",
        "\n",
        "**1. Collaborative Filtering:**\n",
        "Collaborative Filtering is a popular approach to building recommendation systems that leverages the collective behavior of users to make personalized recommendations. It is based on the idea that users who have agreed in the past will likely agree in the future. There are two main types of collaborative filtering:\n",
        "\n",
        "- **User-based Collaborative Filtering:** This method finds users similar to the target user based on their past interactions (e.g., ratings or purchases). It then recommends items that similar users have liked but the target user has not interacted with yet.\n",
        "\n",
        "- **Item-based Collaborative Filtering:** In this approach, the system identifies similar items based on user interactions. It recommends items that are similar to the ones the target user has already liked or interacted with.\n",
        "\n",
        "Collaborative filtering does not require any explicit information about items but relies on the similarity between users or items. It is effective in capturing complex patterns and can provide serendipitous recommendations. However, it suffers from the cold-start problem (i.e., difficulty in recommending to new users or items with no interactions) and scalability challenges in large datasets.\n",
        "\n",
        "**2. Content-Based Recommendation:**\n",
        "Content-based recommendation is an alternative approach to building recommendation systems that focuses on the attributes or features of items and users. It leverages the characteristics of items to make recommendations. The key steps involved in content-based recommendation are:\n",
        "\n",
        "- **Feature Extraction:** For each item, relevant features are extracted. For movies, these features could be genre, director, actors, and plot summary.\n",
        "\n",
        "- **User Profile:** A user profile is created based on the items they have interacted with in the past. The user profile contains the weighted importance of features based on their interactions.\n",
        "\n",
        "- **Similarity Calculation:** The similarity between items or between items and the user profile is calculated using similarity metrics like cosine similarity or Euclidean distance.\n",
        "\n",
        "- **Recommendation:** Items that are most similar to the user profile are recommended to the user.\n",
        "\n",
        "Content-based recommendation systems are less affected by the cold-start problem as they can still recommend items based on their features. They are also more interpretable as they rely on item attributes. However, they may miss out on providing serendipitous recommendations and can be limited by the quality of feature extraction and user profiles.\n",
        "\n",
        "**Choosing Between Collaborative Filtering and Content-Based:**\n",
        "Both collaborative filtering and content-based approaches have their strengths and weaknesses. The choice between them depends on the specific requirements of the recommendation system, the type of data available, and the user base. Hybrid approaches that combine collaborative filtering and content-based techniques are also common, aiming to leverage the strengths of both methods and mitigate their weaknesses."
      ]
    },
    {
      "cell_type": "markdown",
      "metadata": {
        "id": "TYuE9O6I2uRY"
      },
      "source": [
        "In this mini-project, you'll be building both content based and collaborative filtering engines for the [MovieLens 25M dataset](https://grouplens.org/datasets/movielens/25m/). The MovieLens 25M dataset is one of the most widely used and popular datasets for building and evaluating recommendation systems. It is provided by the GroupLens Research project, which collects and studies datasets related to movie ratings and recommendations. The MovieLens 25M dataset contains movie ratings and other related information contributed by users of the MovieLens website.\n",
        "\n",
        "**Dataset Details:**\n",
        "- **Size:** The dataset contains approximately 25 million movie ratings.\n",
        "- **Users:** It includes ratings from over 162,000 users.\n",
        "- **Movies:** The dataset consists of ratings for more than 62,000 movies.\n",
        "- **Ratings:** The ratings are provided on a scale of 1 to 5, where 1 is the lowest rating and 5 is the highest.\n",
        "- **Timestamps:** Each rating is associated with a timestamp, indicating when the rating was given.\n",
        "\n",
        "**Data Files:**\n",
        "The dataset is usually split into three CSV files:\n",
        "\n",
        "1. **movies.csv:** Contains information about movies, including the movie ID, title, genres, and release year.\n",
        "   - Columns: movieId, title, genres\n",
        "\n",
        "2. **ratings.csv:** Contains movie ratings provided by users, including the user ID, movie ID, rating, and timestamp.\n",
        "   - Columns: userId, movieId, rating, timestamp\n",
        "\n",
        "3. **tags.csv:** Contains user-generated tags for movies, including the user ID, movie ID, tag, and timestamp.\n",
        "   - Columns: userId, movieId, tag, timestamp"
      ]
    },
    {
      "cell_type": "markdown",
      "metadata": {
        "id": "DN0qzP-cRlMo"
      },
      "source": [
        "First, import all the libraries you'll need."
      ]
    },
    {
      "cell_type": "code",
      "execution_count": 1,
      "metadata": {
        "id": "kLWR1DfQPakn"
      },
      "outputs": [],
      "source": [
        "import zipfile\n",
        "import numpy as np\n",
        "import pandas as pd\n",
        "from urllib.request import urlretrieve\n",
        "from sklearn.metrics.pairwise import cosine_similarity"
      ]
    },
    {
      "cell_type": "markdown",
      "metadata": {
        "id": "iaG6vAKyREej"
      },
      "source": [
        "Next, download the relevant components of the MoveLens dataset. Note, these instructions are roughly based on the colab [here](https://colab.research.google.com/github/google/eng-edu/blob/main/ml/recommendation-systems/recommendation-systems.ipynb?utm_source=ss-recommendation-systems&utm_campaign=colab-external&utm_medium=referral&utm_content=recommendation-systems#scrollTo=O3bcgduFo4s6)."
      ]
    },
    {
      "cell_type": "code",
      "execution_count": 2,
      "metadata": {
        "colab": {
          "base_uri": "https://localhost:8080/"
        },
        "id": "-wCvx2ukPm-3",
        "outputId": "8f9b757e-4efa-4313-a018-e385b6947435"
      },
      "outputs": [
        {
          "output_type": "stream",
          "name": "stdout",
          "text": [
            "Downloading movielens data...\n",
            "Done. Dataset contains:\n",
            "b'943 users\\n1682 items\\n100000 ratings\\n'\n"
          ]
        }
      ],
      "source": [
        "print(\"Downloading movielens data...\")\n",
        "\n",
        "urlretrieve('http://files.grouplens.org/datasets/movielens/ml-100k.zip', 'movielens.zip')\n",
        "zip_ref = zipfile.ZipFile('movielens.zip', 'r')\n",
        "zip_ref.extractall()\n",
        "print(\"Done. Dataset contains:\")\n",
        "print(zip_ref.read('ml-100k/u.info'))\n",
        "\n",
        "ratings_cols = ['user_id', 'movie_id', 'rating', 'unix_timestamp']\n",
        "ratings = pd.read_csv(\n",
        "    'ml-100k/u.data', sep='\\t', names=ratings_cols, encoding='latin-1')\n",
        "\n",
        "# The movies file contains a binary feature for each genre.\n",
        "genre_cols = [\n",
        "    \"genre_unknown\", \"Action\", \"Adventure\", \"Animation\", \"Children\", \"Comedy\",\n",
        "    \"Crime\", \"Documentary\", \"Drama\", \"Fantasy\", \"Film-Noir\", \"Horror\",\n",
        "    \"Musical\", \"Mystery\", \"Romance\", \"Sci-Fi\", \"Thriller\", \"War\", \"Western\"\n",
        "]\n",
        "movies_cols = [\n",
        "    'movie_id', 'title', 'release_date', \"video_release_date\", \"imdb_url\"\n",
        "] + genre_cols\n",
        "movies = pd.read_csv(\n",
        "    'ml-100k/u.item', sep='|', names=movies_cols, encoding='latin-1')"
      ]
    },
    {
      "cell_type": "markdown",
      "metadata": {
        "id": "pLAMVhnbR-Cy"
      },
      "source": [
        "Before doing any kind of machine learning, it's always good to familiarize yourself with the datasets you'lll be working with.\n",
        "\n",
        "Here are your tasks:\n",
        "\n",
        "1. Spend some time familiarizing yourself with both the `movies` and `ratings` dataframes. How many unique user ids are present? How many unique movies are there?\n",
        "2. Create a new dataframe that merges the `movies` and `ratings` tables on 'movie_id'. Only keep the 'user_id', 'title', 'rating' fields in this new dataframe."
      ]
    },
    {
      "cell_type": "code",
      "execution_count": 3,
      "metadata": {
        "id": "vp7Tx7H_P5f2",
        "colab": {
          "base_uri": "https://localhost:8080/"
        },
        "outputId": "897d68b9-f8a2-457f-9ff9-09605a03bdbd"
      },
      "outputs": [
        {
          "output_type": "stream",
          "name": "stdout",
          "text": [
            "1664\n",
            "943\n"
          ]
        }
      ],
      "source": [
        "# Spend some time familiarizing yourself with both the movies and ratings\n",
        "# dataframes. How many unique user ids are present? How many unique movies\n",
        "# are there?\n",
        "unique_movies = movies['title'].nunique()\n",
        "users = ratings['user_id'].nunique()\n",
        "print(unique_movies)\n",
        "print(users)"
      ]
    },
    {
      "cell_type": "code",
      "execution_count": 111,
      "metadata": {
        "id": "f6MrymMJRMjB"
      },
      "outputs": [],
      "source": [
        "# Merge movies and ratings dataframes\n",
        "merged_dataframe = pd.merge(movies, ratings)\n",
        "dataframe = merged_dataframe[['user_id','title','rating']]\n"
      ]
    },
    {
      "cell_type": "markdown",
      "metadata": {
        "id": "_U44W0TMT3qf"
      },
      "source": [
        "As mentioned in the introduction, content-Based Filtering is a recommendation engine approach that focuses on the attributes or features of items (products, movies, music, articles, etc.) and leverages these features to make personalized recommendations. The underlying idea is to match the characteristics of items with the preferences of users to suggest items that align with their interests. Content-based filtering is particularly useful when explicit user-item interactions (e.g., ratings or purchases) are sparse or unavailable.\n",
        "\n",
        "**Key Steps in Content-Based Filtering:**\n",
        "\n",
        "1. **Feature Extraction:**\n",
        "   - For each item, relevant features are extracted. These features are typically descriptive attributes that can be represented numerically, such as genre, director, actors, author, publication date, and keywords.\n",
        "   - In the case of text-based items, natural language processing techniques may be used to extract features like TF-IDF (Term Frequency-Inverse Document Frequency) scores.\n",
        "\n",
        "2. **User Profile Creation:**\n",
        "   - A user profile is created based on the items they have interacted with in the past. The user profile contains the weighted importance of features based on their interactions.\n",
        "   - For example, if a user has watched several action movies, the action genre feature would receive a higher weight in their profile.\n",
        "\n",
        "3. **Similarity Calculation:**\n",
        "   - The similarity between items or between items and the user profile is calculated using similarity metrics like cosine similarity, Euclidean distance, or Pearson correlation.\n",
        "   - Cosine similarity is commonly used as it measures the cosine of the angle between two vectors, which represents their similarity.\n",
        "\n",
        "4. **Recommendation:**\n",
        "   - Items that are most similar to the user profile are recommended to the user. These are items whose features have the highest similarity scores with the user profile.\n",
        "   - The recommended items are presented as a list sorted by their similarity scores.\n",
        "\n",
        "**Advantages of Content-Based Filtering:**\n",
        "1. **No Cold-Start Problem:** Content-based filtering can make recommendations even for new users with no historical interactions because it relies on item features rather than user history.\n",
        "\n",
        "2. **User Independence:** The recommendations are based solely on the features of items and do not require knowledge of other users' preferences or behavior.\n",
        "\n",
        "3. **Transparency:** Content-based recommendations are interpretable, as they depend on the features of items, making it easier for users to understand why specific items are recommended.\n",
        "\n",
        "4. **Serendipity:** Content-based filtering can recommend items with characteristics not seen before by the user, leading to serendipitous discoveries.\n",
        "\n",
        "5. **Diversity in Recommendations:** The method can offer diverse recommendations since it suggests items with different feature combinations.\n",
        "\n",
        "**Limitations of Content-Based Filtering:**\n",
        "1. **Limited Discovery:** Content-based filtering may struggle to recommend items outside the scope of users' historical interactions or interests.\n",
        "\n",
        "2. **Over-Specialization:** Users may receive recommendations that are too similar to their previous choices, leading to a lack of exposure to new item categories.\n",
        "\n",
        "3. **Dependency on Feature Quality:** The quality and relevance of item features significantly influence the quality of recommendations.\n",
        "\n",
        "4. **Limited for Cold Items:** Content-based filtering can struggle to recommend new items with limited feature information."
      ]
    },
    {
      "cell_type": "markdown",
      "metadata": {
        "id": "sbJGD7j7Ui-8"
      },
      "source": [
        "Here is your task:\n",
        "\n",
        "1. Write a function that takes in a user id and the dataframe you created before that contains 'user_id', 'title', and 'rating'. The function should return content-based recommendations for this user. Here are steps you can take:\n",
        "\n",
        "  A. Get the user's rated movies\n",
        "\n",
        "  B. Create a TF-IDF matrix using movie genres. Note, this can be extracted from the `movies` dataframe.\n",
        "\n",
        "  C. Compute the cosine similarity between movie genres. Use the [cosine_similarity](https://scikit-learn.org/stable/modules/generated/sklearn.metrics.pairwise.cosine_similarity.html) function.\n",
        "\n",
        "  D. Get the indices of similar movies to those rated by the user based on cosine similarity. Keep only the top 5.\n",
        "\n",
        "  E. Remove duplicates and movies already rated by the user."
      ]
    },
    {
      "cell_type": "code",
      "execution_count": 5,
      "metadata": {
        "id": "xzuYK24ocOKa",
        "colab": {
          "base_uri": "https://localhost:8080/"
        },
        "outputId": "8814467c-582c-44e1-f749-adcf357a9a7d"
      },
      "outputs": [
        {
          "output_type": "stream",
          "name": "stdout",
          "text": [
            "(1682,)\n"
          ]
        }
      ],
      "source": [
        "print(movies['title'].shape)"
      ]
    },
    {
      "cell_type": "code",
      "source": [
        "from sklearn.feature_extraction.text import TfidfVectorizer\n",
        "\n",
        "def content_based_recommendation(user_id, df):\n",
        "    # Isolate the movies information\n",
        "    movies_columns = ['movie_id', 'title', 'release_date', 'video_release_date', 'imdb_url', 'genre_unknown',\n",
        "                      'Action', 'Adventure', 'Animation', 'Children', 'Comedy', 'Crime', 'Documentary',\n",
        "                      'Drama', 'Fantasy', 'Film-Noir', 'Horror', 'Musical', 'Mystery', 'Romance',\n",
        "                      'Sci-Fi', 'Thriller', 'War', 'Western']\n",
        "    movies_df = movies[movies_columns].drop_duplicates()\n",
        "\n",
        "    # Isolate user ratings\n",
        "    ratings_columns = ['user_id', 'movie_id', 'rating', 'unix_timestamp']\n",
        "    ratings_df = ratings[ratings_columns].drop_duplicates()\n",
        "\n",
        "    # Preprocess movies_df to create a 'genres' column\n",
        "    genre_columns = ['genre_unknown', 'Action', 'Adventure', 'Animation', 'Children', 'Comedy',\n",
        "                     'Crime', 'Documentary', 'Drama', 'Fantasy', 'Film-Noir', 'Horror', 'Musical',\n",
        "                     'Mystery', 'Romance', 'Sci-Fi', 'Thriller', 'War', 'Western']\n",
        "    movies_df['genres'] = movies_df.apply(lambda row: ' '.join(genre_columns[i] for i, val in enumerate(row[genre_columns]) if val == 1), axis=1)\n",
        "\n",
        "    # Create a TF-IDF matrix using the 'genres' column\n",
        "    tfidf_vectorizer = TfidfVectorizer()\n",
        "    tfidf_matrix = tfidf_vectorizer.fit_transform(movies_df['genres'])\n",
        "\n",
        "    # Compute the cosine similarity between movie genres\n",
        "    cosine_sim = cosine_similarity(tfidf_matrix)\n",
        "\n",
        "    # Mapping movie_ids to indices in the cosine_sim matrix\n",
        "    movie_id_to_index = {movie_id: index for index, movie_id in enumerate(movies_df['movie_id'])}\n",
        "\n",
        "    #Get indices of movies rated by the user\n",
        "    rated_movie_indices = [movie_id_to_index[movie_id] for movie_id in ratings_df[ratings_df['user_id'] == user_id]['movie_id'] if movie_id in movie_id_to_index]\n",
        "\n",
        "    # Compute aggregated similarity scores for each movie\n",
        "    sim_scores = np.sum(cosine_sim[rated_movie_indices], axis=0)\n",
        "\n",
        "    # Sort movies based on similarity scores\n",
        "    sorted_indices = np.argsort(sim_scores)[::-1]\n",
        "\n",
        "    # Filter out movies already rated by the user and select top 5 recommendations\n",
        "    recommended_indices = [idx for idx in sorted_indices if movies_df.iloc[idx]['movie_id'] not in ratings_df[ratings_df['user_id'] == user_id]['movie_id'].values][:5]\n",
        "\n",
        "    # Get recommended movie titles\n",
        "    recommended_movies = movies_df.iloc[recommended_indices]['title'].tolist()\n",
        "\n",
        "    return recommended_movies\n",
        "recommendations = content_based_recommendation(308, dataframe)\n",
        "print(recommendations)"
      ],
      "metadata": {
        "id": "e91SOUQY2SgZ",
        "colab": {
          "base_uri": "https://localhost:8080/"
        },
        "outputId": "dc53367f-9dae-4f8e-f55f-e74295fb0a9e"
      },
      "execution_count": 13,
      "outputs": [
        {
          "output_type": "stream",
          "name": "stdout",
          "text": [
            "['With Honors (1994)', 'Sirens (1994)', 'Wag the Dog (1997)', 'Deconstructing Harry (1997)', 'Caro Diario (Dear Diary) (1994)']\n"
          ]
        }
      ]
    },
    {
      "cell_type": "markdown",
      "metadata": {
        "id": "2NNt3gHLYDxU"
      },
      "source": [
        "The key idea behind collaborative filtering is that users who have agreed in the past will likely agree in the future. Instead of relying on item attributes or user profiles, collaborative filtering identifies patterns of user behavior and item preferences from the interactions present in the data.\n",
        "\n",
        "**Types of Collaborative Filtering:**\n",
        "There are two main types of collaborative filtering:\n",
        "\n",
        "**Collaborative Filtering Process:**\n",
        "The collaborative filtering process typically involves the following steps:\n",
        "\n",
        "1. **Data Collection:**\n",
        "   - Gather data on user-item interactions, such as movie ratings, product purchases, or article clicks.\n",
        "\n",
        "2. **User-Item Matrix:**\n",
        "   - Organize the data into a user-item matrix, where rows represent users, columns represent items, and the entries contain the users' interactions (e.g., ratings).\n",
        "\n",
        "3. **Similarity Calculation:**\n",
        "   - Calculate the similarity between users or items using similarity metrics such as cosine similarity, Pearson correlation, or Jaccard similarity.\n",
        "   - For user-based collaborative filtering, user similarities are calculated, and for item-based collaborative filtering, item similarities are calculated.\n",
        "\n",
        "4. **Neighborhood Selection:**\n",
        "   - For each user or item, select the most similar users or items as the neighborhood.\n",
        "   - The size of the neighborhood (the number of similar users or items to consider) is an important parameter to control the system's behavior.\n",
        "\n",
        "5. **Prediction Generation:**\n",
        "   - Predict the ratings for items that the target user has not yet interacted with by combining the ratings of neighboring users or items.\n",
        "\n",
        "6. **Recommendation Generation:**\n",
        "   - Recommend items with the highest predicted ratings to the target user.\n",
        "\n",
        "**Advantages of Collaborative Filtering using User-Item Interactions:**\n",
        "- Collaborative filtering is based solely on user interactions and does not require knowledge of item attributes, making it useful for cases where item data is sparse or unavailable.\n",
        "- It can provide serendipitous recommendations, suggesting items that users may not have discovered on their own.\n",
        "- Collaborative filtering can be applied in various domains, including e-commerce, music, movie, and content recommendations.\n",
        "\n",
        "**Limitations of Collaborative Filtering:**\n",
        "- The cold-start problem: Collaborative filtering struggles to recommend to new users or items with no or limited interaction history.\n",
        "- It may suffer from sparsity when data is limited or when users have only interacted with a small subset of items.\n",
        "- Scalability issues can arise with large datasets and an increasing number of users or items."
      ]
    },
    {
      "cell_type": "markdown",
      "metadata": {
        "id": "ks4mWyCaYVNY"
      },
      "source": [
        "Here is your task:\n",
        "\n",
        "1. Write a function that takes in a user id and the dataframe you created before that contains 'user_id', 'title', and 'rating'. The function should return collaborative filtering recommendations for this user based on a user-item interaction matrix. Here are steps you can take:\n",
        "\n",
        "  A. Create the user-item matrix using Pandas' [pivot_table](https://pandas.pydata.org/docs/reference/api/pandas.pivot_table.html).\n",
        "\n",
        "  B. Fill missing values with zeros in this matrix.\n",
        "\n",
        "  C. Calculate user-user similarity matrix using cosine similarity.\n",
        "\n",
        "  D. Get the array of similarity scores of the target user with all other users from the similarity matrix.\n",
        "\n",
        "  E. Extract, say the the top 5 most similar users (excluding the target user).\n",
        "\n",
        "  F. Generate movie recommendations based on the most similar users.\n",
        "\n",
        "  G. Remove duplicate movies recommendations."
      ]
    },
    {
      "cell_type": "code",
      "execution_count": 102,
      "metadata": {
        "id": "BqZPgKRDWf-c"
      },
      "outputs": [],
      "source": [
        "# Collaborative Filtering using User-Item Interactions\n",
        "def collaborative_filtering_recommendation(user_id, df):\n",
        "  # Create the user-item matrix\n",
        "  user_item_matrix = pd.pivot_table(df, values='rating', index='user_id', columns='title')\n",
        "  # Fill missing values with 0 (indicating no rating)\n",
        "  filled_matrix = user_item_matrix.fillna(0)\n",
        "\n",
        "  # Calculate user-user similarity matrix using cosine similarity\n",
        "  cosine_sim = cosine_similarity(filled_matrix)\n",
        "  cosine_sim_df = pd.DataFrame(cosine_sim, index=filled_matrix.index, columns=filled_matrix.index)\n",
        "\n",
        "  # Get the similarity scores of the target user with all other users\n",
        "  user_sim = cosine_sim_df.loc[user_id]\n",
        "  top_sim_scores = user_sim.sort_values(ascending=False)\n",
        "  # Find the top N most similar users (excluding the target user)\n",
        "  top_N_most_similar = top_sim_scores.iloc[1:5+1]\n",
        "  # Generate movie recommendations based on the most similar users\n",
        "  similar_users = top_N_most_similar.index\n",
        "  user_rated_movies_df = get_user_rated_movies(user_id, df)\n",
        "  similar_movies = []\n",
        "  for i in similar_users:\n",
        "    sim_user_movies = get_user_rated_movies(i, df)\n",
        "    similar_movies.append(sim_user_movies)\n",
        "  similar_movies_df = pd.concat(similar_movies)\n",
        "  # Remove duplicates from recommendations\n",
        "  recommended_movies_df = similar_movies_df[~similar_movies_df['title'].isin(user_rated_movies_df['title'])]\n",
        "  return recommended_movies_df['title'].iloc[:5].tolist()\n",
        "\n",
        "\n",
        "def get_user_rated_movies(user_id, df):\n",
        "  user_df = df[df['user_id'] == user_id]\n",
        "  return user_df\n"
      ]
    },
    {
      "cell_type": "markdown",
      "metadata": {
        "id": "-Jj883VAZRNe"
      },
      "source": [
        "Now, test your recommendations engines! Select a few user ids and generate recommendations using both functions you've written. Are the recommendations similar? Do the recommendations make sense?"
      ]
    },
    {
      "cell_type": "code",
      "execution_count": 116,
      "metadata": {
        "id": "kt9nuOTNJXz8",
        "colab": {
          "base_uri": "https://localhost:8080/"
        },
        "outputId": "7a476ce2-3c06-4e96-9182-85af43feb64d"
      },
      "outputs": [
        {
          "output_type": "stream",
          "name": "stdout",
          "text": [
            "['House of Yes, The (1997)', 'Citizen Ruth (1996)', 'Sleepover (1995)', 'Bhaji on the Beach (1993)', 'Ma vie en rose (My Life in Pink) (1997)']\n",
            "['Kolya (1996)', 'Starship Troopers (1997)', 'L.A. Confidential (1997)', 'Murder at 1600 (1997)', 'G.I. Jane (1997)']\n",
            "\n",
            "['Brassed Off (1996)', 'Don Juan DeMarco (1995)', 'I Like It Like That (1994)', 'Twelfth Night (1996)', 'Corrina, Corrina (1994)']\n",
            "['Toy Story (1995)', 'GoldenEye (1995)', 'Get Shorty (1995)', 'Babe (1995)', 'Usual Suspects, The (1995)']\n",
            "\n",
            "['Something to Talk About (1995)', 'Don Juan DeMarco (1995)', 'Manhattan (1979)', 'What Happened Was... (1994)', 'I Like It Like That (1994)']\n",
            "['Toy Story (1995)', 'Twelve Monkeys (1995)', 'Babe (1995)', 'Usual Suspects, The (1995)', \"Mr. Holland's Opus (1995)\"]\n",
            "\n"
          ]
        }
      ],
      "source": [
        "# Test the recommendation engines\n",
        "\n",
        "def test_engines(user_id):\n",
        "  item_to_item = content_based_recommendation(user_id, dataframe)\n",
        "  user_to_user = collaborative_filtering_recommendation(user_id, dataframe)\n",
        "  print(item_to_item)\n",
        "  print(user_to_user)\n",
        "  print()\n",
        "\n",
        "\n",
        "test_engines(220)\n",
        "test_engines(623)\n",
        "test_engines(123)\n",
        "# The recommendations are not similar. Item to item recommends similar movies to those already watched, while user to user recommends what users that have similar tastes have watched (and liked).\n",
        "\n"
      ]
    }
  ],
  "metadata": {
    "colab": {
      "provenance": [],
      "gpuType": "T4",
      "include_colab_link": true
    },
    "kernelspec": {
      "display_name": "Python 3",
      "name": "python3"
    },
    "language_info": {
      "name": "python"
    },
    "accelerator": "GPU"
  },
  "nbformat": 4,
  "nbformat_minor": 0
}